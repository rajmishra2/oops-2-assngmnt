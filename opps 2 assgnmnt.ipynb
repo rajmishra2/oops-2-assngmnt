{
 "cells": [
  {
   "cell_type": "markdown",
   "id": "0543c51f-aa50-415a-89ed-24cd2b8dfea9",
   "metadata": {},
   "source": [
    "Q1. What is Abstraction in OOps? Explain with an example.\n",
    "Abstraction is the process of hiding the internal details of an application from the outer world. Abstraction is used to describe things in simple terms. It's used to create a boundary between the application and the client programs\n",
    "\n",
    " a man needs to withdraw cash from an ATM."
   ]
  },
  {
   "cell_type": "markdown",
   "id": "32664df5-5e48-4486-93d1-daec5928e612",
   "metadata": {},
   "source": [
    "Q2. Differentiate between Abstraction and Encapsulation. Explain with an example.\n",
    "Encapsulation wraps code and data for unnecessary information, while Abstraction presents only useful data. Encapsulation focuses on how it should get done, while Abstraction focuses on what should get done.\n",
    "For example, if you have a class that has one or more private fields that you use to store the data, then you are in encapsulation"
   ]
  },
  {
   "cell_type": "markdown",
   "id": "f37336e9-93d0-48f7-9f78-3447fe8d73b3",
   "metadata": {},
   "source": [
    "Q3. What is abc module in python? Why is it used?\n",
    "Python is not a fully object-oriented programming language but it supports the features like abstract classes and abstraction. We cannot create abstract classes directly in Python, so Python provides a module called abc that provides the infrastructure for defining the base of Abstract Base Classes(ABC)."
   ]
  },
  {
   "cell_type": "markdown",
   "id": "cb4160a9-ab00-49cf-a8b0-2b658976f40b",
   "metadata": {},
   "source": [
    "Q4. How can we achieve data abstraction?\n",
    "We can achieve data abstraction through Abstract classes and interfaces. Through abstract classes, you can achieve partial or complete abstraction as abstract classes contain methods that have an implementation which can result in partial abstraction."
   ]
  },
  {
   "cell_type": "code",
   "execution_count": null,
   "id": "f7a7ccb4-2dee-42e4-9e02-d3ede24e3020",
   "metadata": {},
   "outputs": [],
   "source": [
    "Q5. Can we create an instance of an abstract class? Explain your answer.\n"
   ]
  }
 ],
 "metadata": {
  "kernelspec": {
   "display_name": "Python 3 (ipykernel)",
   "language": "python",
   "name": "python3"
  },
  "language_info": {
   "codemirror_mode": {
    "name": "ipython",
    "version": 3
   },
   "file_extension": ".py",
   "mimetype": "text/x-python",
   "name": "python",
   "nbconvert_exporter": "python",
   "pygments_lexer": "ipython3",
   "version": "3.10.8"
  }
 },
 "nbformat": 4,
 "nbformat_minor": 5
}
